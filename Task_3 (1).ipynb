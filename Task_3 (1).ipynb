{
 "cells": [
  {
   "cell_type": "code",
   "execution_count": 4,
   "id": "bc062c12",
   "metadata": {},
   "outputs": [
    {
     "name": "stdout",
     "output_type": "stream",
     "text": [
      "Enter the password:sbsuadjsaoj\n",
      "Password should contain atleast one uppercase letter\n",
      "Password should have atleast one special symbol\n",
      "Weak Password\n"
     ]
    }
   ],
   "source": [
    "#PROGRAM TO CHECK THE STRENGTH OF PASSWORD BASED ON CONDITIONS\n",
    "\n",
    "def password_checker(password):\n",
    "    n=len(password)\n",
    "    count=0\n",
    "    special_symbol=['@','#','$','&']\n",
    "    if(n<8 or n>24):\n",
    "        print(\"Password should be between 8 to 24 characters:\")\n",
    "    else:\n",
    "        count+=1\n",
    "    if not any(x.isupper()for x in password):\n",
    "        print(\"Password should contain atleast one uppercase letter\")\n",
    "    else:\n",
    "        count+=1\n",
    "    if not any(x.islower() for x in password):\n",
    "        print(\"Password should contain atleast one lowercase letter\")\n",
    "    else:\n",
    "        count+=1\n",
    "    if not any(x.isalnum() for x in password):\n",
    "        print(\"Password should contain atleast one number\")\n",
    "    else:\n",
    "        count+=1\n",
    "    if not any(x in special_symbol for x in password):\n",
    "        print(\"Password should have atleast one special symbol\")\n",
    "    else:\n",
    "        count+=1\n",
    "    return count\n",
    "\n",
    "password=input(\"Enter the password:\")\n",
    "strenght=password_checker(password)\n",
    "if(strenght>=4):\n",
    "    print(\"Strong password\")\n",
    "elif(strenght>=2):\n",
    "    print(\"Weak Password\")\n",
    "else:\n",
    "    print(\"Invalid Password\")\n"
   ]
  },
  {
   "cell_type": "code",
   "execution_count": null,
   "id": "03f38dc6",
   "metadata": {},
   "outputs": [],
   "source": []
  }
 ],
 "metadata": {
  "kernelspec": {
   "display_name": "Python 3 (ipykernel)",
   "language": "python",
   "name": "python3"
  },
  "language_info": {
   "codemirror_mode": {
    "name": "ipython",
    "version": 3
   },
   "file_extension": ".py",
   "mimetype": "text/x-python",
   "name": "python",
   "nbconvert_exporter": "python",
   "pygments_lexer": "ipython3",
   "version": "3.10.9"
  }
 },
 "nbformat": 4,
 "nbformat_minor": 5
}
